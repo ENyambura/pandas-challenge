{
 "cells": [
  {
   "attachments": {},
   "cell_type": "markdown",
   "metadata": {},
   "source": [
    "# PyCity Schools Analysis\n",
    "\n",
    "- Your analysis here\n",
    "  \n",
    "---"
   ]
  },
  {
   "cell_type": "code",
   "execution_count": 1,
   "metadata": {},
   "outputs": [],
   "source": [
    "# Dependencies and Setup\n",
    "import pandas as pd\n",
    "from pathlib import Path"
   ]
  },
  {
   "cell_type": "code",
   "execution_count": 2,
   "metadata": {},
   "outputs": [
    {
     "data": {
      "text/html": [
       "<div>\n",
       "<style scoped>\n",
       "    .dataframe tbody tr th:only-of-type {\n",
       "        vertical-align: middle;\n",
       "    }\n",
       "\n",
       "    .dataframe tbody tr th {\n",
       "        vertical-align: top;\n",
       "    }\n",
       "\n",
       "    .dataframe thead th {\n",
       "        text-align: right;\n",
       "    }\n",
       "</style>\n",
       "<table border=\"1\" class=\"dataframe\">\n",
       "  <thead>\n",
       "    <tr style=\"text-align: right;\">\n",
       "      <th></th>\n",
       "      <th>Student ID</th>\n",
       "      <th>student_name</th>\n",
       "      <th>gender</th>\n",
       "      <th>grade</th>\n",
       "      <th>school_name</th>\n",
       "      <th>reading_score</th>\n",
       "      <th>math_score</th>\n",
       "      <th>School ID</th>\n",
       "      <th>type</th>\n",
       "      <th>size</th>\n",
       "      <th>budget</th>\n",
       "    </tr>\n",
       "  </thead>\n",
       "  <tbody>\n",
       "    <tr>\n",
       "      <th>0</th>\n",
       "      <td>0</td>\n",
       "      <td>Paul Bradley</td>\n",
       "      <td>M</td>\n",
       "      <td>9th</td>\n",
       "      <td>Huang High School</td>\n",
       "      <td>66</td>\n",
       "      <td>79</td>\n",
       "      <td>0</td>\n",
       "      <td>District</td>\n",
       "      <td>2917</td>\n",
       "      <td>1910635</td>\n",
       "    </tr>\n",
       "    <tr>\n",
       "      <th>1</th>\n",
       "      <td>1</td>\n",
       "      <td>Victor Smith</td>\n",
       "      <td>M</td>\n",
       "      <td>12th</td>\n",
       "      <td>Huang High School</td>\n",
       "      <td>94</td>\n",
       "      <td>61</td>\n",
       "      <td>0</td>\n",
       "      <td>District</td>\n",
       "      <td>2917</td>\n",
       "      <td>1910635</td>\n",
       "    </tr>\n",
       "    <tr>\n",
       "      <th>2</th>\n",
       "      <td>2</td>\n",
       "      <td>Kevin Rodriguez</td>\n",
       "      <td>M</td>\n",
       "      <td>12th</td>\n",
       "      <td>Huang High School</td>\n",
       "      <td>90</td>\n",
       "      <td>60</td>\n",
       "      <td>0</td>\n",
       "      <td>District</td>\n",
       "      <td>2917</td>\n",
       "      <td>1910635</td>\n",
       "    </tr>\n",
       "    <tr>\n",
       "      <th>3</th>\n",
       "      <td>3</td>\n",
       "      <td>Dr. Richard Scott</td>\n",
       "      <td>M</td>\n",
       "      <td>12th</td>\n",
       "      <td>Huang High School</td>\n",
       "      <td>67</td>\n",
       "      <td>58</td>\n",
       "      <td>0</td>\n",
       "      <td>District</td>\n",
       "      <td>2917</td>\n",
       "      <td>1910635</td>\n",
       "    </tr>\n",
       "    <tr>\n",
       "      <th>4</th>\n",
       "      <td>4</td>\n",
       "      <td>Bonnie Ray</td>\n",
       "      <td>F</td>\n",
       "      <td>9th</td>\n",
       "      <td>Huang High School</td>\n",
       "      <td>97</td>\n",
       "      <td>84</td>\n",
       "      <td>0</td>\n",
       "      <td>District</td>\n",
       "      <td>2917</td>\n",
       "      <td>1910635</td>\n",
       "    </tr>\n",
       "  </tbody>\n",
       "</table>\n",
       "</div>"
      ],
      "text/plain": [
       "   Student ID       student_name gender grade        school_name  \\\n",
       "0           0       Paul Bradley      M   9th  Huang High School   \n",
       "1           1       Victor Smith      M  12th  Huang High School   \n",
       "2           2    Kevin Rodriguez      M  12th  Huang High School   \n",
       "3           3  Dr. Richard Scott      M  12th  Huang High School   \n",
       "4           4         Bonnie Ray      F   9th  Huang High School   \n",
       "\n",
       "   reading_score  math_score  School ID      type  size   budget  \n",
       "0             66          79          0  District  2917  1910635  \n",
       "1             94          61          0  District  2917  1910635  \n",
       "2             90          60          0  District  2917  1910635  \n",
       "3             67          58          0  District  2917  1910635  \n",
       "4             97          84          0  District  2917  1910635  "
      ]
     },
     "execution_count": 2,
     "metadata": {},
     "output_type": "execute_result"
    }
   ],
   "source": [
    "\n",
    "\n",
    "# File to Load\n",
    "school_data_to_load = Path(\"Resources/schools_complete.csv\")\n",
    "student_data_to_load = Path(\"Resources/students_complete.csv\")\n",
    "\n",
    "# Read School and Student Data File and store into Pandas DataFrames\n",
    "school_data_df = pd.read_csv(school_data_to_load)\n",
    "student_data_df= pd.read_csv(student_data_to_load)\n",
    "\n",
    "# Combine the data into a single dataset.\n",
    "school_data_complete = pd.merge(student_data_df, school_data_df, how=\"left\", on=[\"school_name\", \"school_name\"])\n",
    "school_data_complete.head()\n"
   ]
  },
  {
   "cell_type": "code",
   "execution_count": 3,
   "metadata": {},
   "outputs": [
    {
     "data": {
      "text/html": [
       "<div>\n",
       "<style scoped>\n",
       "    .dataframe tbody tr th:only-of-type {\n",
       "        vertical-align: middle;\n",
       "    }\n",
       "\n",
       "    .dataframe tbody tr th {\n",
       "        vertical-align: top;\n",
       "    }\n",
       "\n",
       "    .dataframe thead th {\n",
       "        text-align: right;\n",
       "    }\n",
       "</style>\n",
       "<table border=\"1\" class=\"dataframe\">\n",
       "  <thead>\n",
       "    <tr style=\"text-align: right;\">\n",
       "      <th></th>\n",
       "      <th>Student ID</th>\n",
       "      <th>student_name</th>\n",
       "      <th>gender</th>\n",
       "      <th>grade</th>\n",
       "      <th>school_name</th>\n",
       "      <th>reading_score</th>\n",
       "      <th>math_score</th>\n",
       "    </tr>\n",
       "  </thead>\n",
       "  <tbody>\n",
       "    <tr>\n",
       "      <th>0</th>\n",
       "      <td>0</td>\n",
       "      <td>Paul Bradley</td>\n",
       "      <td>M</td>\n",
       "      <td>9th</td>\n",
       "      <td>Huang High School</td>\n",
       "      <td>66</td>\n",
       "      <td>79</td>\n",
       "    </tr>\n",
       "    <tr>\n",
       "      <th>1</th>\n",
       "      <td>1</td>\n",
       "      <td>Victor Smith</td>\n",
       "      <td>M</td>\n",
       "      <td>12th</td>\n",
       "      <td>Huang High School</td>\n",
       "      <td>94</td>\n",
       "      <td>61</td>\n",
       "    </tr>\n",
       "    <tr>\n",
       "      <th>2</th>\n",
       "      <td>2</td>\n",
       "      <td>Kevin Rodriguez</td>\n",
       "      <td>M</td>\n",
       "      <td>12th</td>\n",
       "      <td>Huang High School</td>\n",
       "      <td>90</td>\n",
       "      <td>60</td>\n",
       "    </tr>\n",
       "    <tr>\n",
       "      <th>3</th>\n",
       "      <td>3</td>\n",
       "      <td>Dr. Richard Scott</td>\n",
       "      <td>M</td>\n",
       "      <td>12th</td>\n",
       "      <td>Huang High School</td>\n",
       "      <td>67</td>\n",
       "      <td>58</td>\n",
       "    </tr>\n",
       "    <tr>\n",
       "      <th>4</th>\n",
       "      <td>4</td>\n",
       "      <td>Bonnie Ray</td>\n",
       "      <td>F</td>\n",
       "      <td>9th</td>\n",
       "      <td>Huang High School</td>\n",
       "      <td>97</td>\n",
       "      <td>84</td>\n",
       "    </tr>\n",
       "  </tbody>\n",
       "</table>\n",
       "</div>"
      ],
      "text/plain": [
       "   Student ID       student_name gender grade        school_name  \\\n",
       "0           0       Paul Bradley      M   9th  Huang High School   \n",
       "1           1       Victor Smith      M  12th  Huang High School   \n",
       "2           2    Kevin Rodriguez      M  12th  Huang High School   \n",
       "3           3  Dr. Richard Scott      M  12th  Huang High School   \n",
       "4           4         Bonnie Ray      F   9th  Huang High School   \n",
       "\n",
       "   reading_score  math_score  \n",
       "0             66          79  \n",
       "1             94          61  \n",
       "2             90          60  \n",
       "3             67          58  \n",
       "4             97          84  "
      ]
     },
     "execution_count": 3,
     "metadata": {},
     "output_type": "execute_result"
    }
   ],
   "source": [
    "student_data_df.head()"
   ]
  },
  {
   "cell_type": "markdown",
   "metadata": {},
   "source": [
    "## District Summary"
   ]
  },
  {
   "cell_type": "code",
   "execution_count": 4,
   "metadata": {},
   "outputs": [
    {
     "name": "stdout",
     "output_type": "stream",
     "text": [
      "15\n"
     ]
    }
   ],
   "source": [
    "# Calculate the total number of unique schools\n",
    "total_schools_count = school_data_df['school_name'].nunique()\n",
    "print(total_schools_count)\n",
    "\n"
   ]
  },
  {
   "cell_type": "code",
   "execution_count": 24,
   "metadata": {},
   "outputs": [
    {
     "data": {
      "text/plain": [
       "39170"
      ]
     },
     "execution_count": 24,
     "metadata": {},
     "output_type": "execute_result"
    }
   ],
   "source": [
    "# Calculate the total number of students\n",
    "#student_count =student_count\n",
    "total_student_count = school_data_complete['student_name'].count()\n",
    "\n",
    "# total_students = student_data_df['student_name'].count()\n",
    "school_data_complete['student_name'].count()\n"
   ]
  },
  {
   "cell_type": "code",
   "execution_count": 30,
   "metadata": {},
   "outputs": [
    {
     "name": "stdout",
     "output_type": "stream",
     "text": [
      "24649428\n"
     ]
    }
   ],
   "source": [
    "# Calculate the total budget\n",
    "#total_budget =total_budget\n",
    "total_budget = school_data_df['budget'].sum()\n",
    "print(total_budget)"
   ]
  },
  {
   "cell_type": "code",
   "execution_count": 26,
   "metadata": {},
   "outputs": [
    {
     "name": "stdout",
     "output_type": "stream",
     "text": [
      "Index(['School ID', 'school_name', 'type', 'size', 'budget'], dtype='object')\n"
     ]
    }
   ],
   "source": [
    "print(school_data_df.columns)\n"
   ]
  },
  {
   "cell_type": "code",
   "execution_count": 27,
   "metadata": {},
   "outputs": [
    {
     "name": "stdout",
     "output_type": "stream",
     "text": [
      "Index(['Student ID', 'student_name', 'gender', 'grade', 'school_name',\n",
      "       'reading_score', 'math_score'],\n",
      "      dtype='object')\n"
     ]
    }
   ],
   "source": [
    "print(student_data_df.columns)\n"
   ]
  },
  {
   "cell_type": "code",
   "execution_count": 28,
   "metadata": {},
   "outputs": [
    {
     "name": "stdout",
     "output_type": "stream",
     "text": [
      "78.98537145774827\n"
     ]
    }
   ],
   "source": [
    "# Calculate the average (mean) math score\n",
    "#average_math_score =average_math_score\n",
    "average_math_score = student_data_df['math_score'].mean()\n",
    "print(average_math_score)"
   ]
  },
  {
   "cell_type": "code",
   "execution_count": 29,
   "metadata": {},
   "outputs": [
    {
     "name": "stdout",
     "output_type": "stream",
     "text": [
      "81.87784018381414\n"
     ]
    }
   ],
   "source": [
    "# Calculate the average (mean) reading score\n",
    "#average_reading_score =average_reading_score\n",
    "average_reading_score = student_data_df['reading_score'].mean()\n",
    "print(average_reading_score)"
   ]
  },
  {
   "cell_type": "code",
   "execution_count": 32,
   "metadata": {},
   "outputs": [],
   "source": [
    "# # Use the following to calculate the percentage of students who passed math (math scores greather than or equal to 70)\n",
    "# passing_math_count = school_data_complete[(student_data_df[\"math_score\"] >= 70)].count()[\"student_name\"]\n",
    "# passing_math_percentage = passing_math_count / total_student_count * 100\n",
    "# print (passing_math_percentage)\n"
   ]
  },
  {
   "cell_type": "code",
   "execution_count": 33,
   "metadata": {},
   "outputs": [
    {
     "name": "stdout",
     "output_type": "stream",
     "text": [
      "74.9808526933878\n"
     ]
    }
   ],
   "source": [
    "# Count the number of students who passed math\n",
    "passing_math_count = school_data_complete[student_data_df[\"math_score\"] >= 70].count()[\"student_name\"]\n",
    "\n",
    "# Calculate the total number of students\n",
    "total_students_count = school_data_complete[\"student_name\"].count()\n",
    "\n",
    "# Calculate the percentage of students who passed math\n",
    "passing_math_percentage = (passing_math_count / total_students_count) * 100\n",
    "\n",
    "# Print the result\n",
    "print(passing_math_percentage)\n"
   ]
  },
  {
   "cell_type": "code",
   "execution_count": null,
   "metadata": {},
   "outputs": [],
   "source": [
    "# # Calculate the percentage of students who passed reading (hint: look at how the math percentage was calculated)\n",
    "\n",
    "# passing_reading_count = school_data_complete[(student_data_df[\"reading_score\"] >= 70)].count()[\"student_name\"]\n",
    "# passing_reading_percentage = passing_reading_count / total_students_count * 100\n",
    "# passing_reading_percentage\n"
   ]
  },
  {
   "cell_type": "code",
   "execution_count": 34,
   "metadata": {},
   "outputs": [
    {
     "name": "stdout",
     "output_type": "stream",
     "text": [
      "65.17232575950983\n"
     ]
    }
   ],
   "source": [
    "# calculate the percentage of students that passed math and reading\n",
    "passing_math_reading_count = school_data_complete[\n",
    "    (school_data_complete[\"math_score\"] >= 70) & (school_data_complete[\"reading_score\"] >= 70)\n",
    "].count()[\"student_name\"]\n",
    "overall_passing_rate = passing_math_reading_count /  total_students_count * 100\n",
    "print(overall_passing_rate)\n"
   ]
  },
  {
   "cell_type": "code",
   "execution_count": 35,
   "metadata": {},
   "outputs": [
    {
     "name": "stdout",
     "output_type": "stream",
     "text": [
      "  Total Students        Total Budget Average Math Score Average Reading Score  \\\n",
      "0         32,715  $82,932,329,558.00              78.99                 81.88   \n",
      "\n",
      "  % Passing Math % Passing Reading Overall Passing Rate  \n",
      "0         89.78%           102.74%               96.26%  \n"
     ]
    }
   ],
   "source": [
    "# Create a high-level snapshot of the district's key metrics in a DataFrame\n",
    "# # Formatting\n",
    "# district_summary_total_students_count=school_data_complete[\"Student_name\"] = school_data_complete[\"Student_name\"].map(\"{:,}\".format)\n",
    "# district_summary_total_budget=school_data_complete[\"Total Budget\"] = school_data_complete[\"Total Budget\"].map(\"${:,.2f}\".format)\n",
    "\n",
    "# # Display the DataFrame\n",
    "# print(district_summary_total_students_count)\n",
    "# print(district_summary_total_budget)\n",
    "import pandas as pd\n",
    "\n",
    "# Assuming `school_data_complete` is your DataFrame\n",
    "\n",
    "# Calculate key metrics\n",
    "total_students_count = school_data_complete[\"student_name\"].nunique()  # Total unique students\n",
    "total_budget = school_data_complete[\"budget\"].sum()  # Total budget\n",
    "\n",
    "# Calculate other key metrics if needed\n",
    "average_math_score = school_data_complete[\"math_score\"].mean()\n",
    "average_reading_score = school_data_complete[\"reading_score\"].mean()\n",
    "\n",
    "passing_math_count = school_data_complete[school_data_complete[\"math_score\"] >= 70].count()[\"student_name\"]\n",
    "passing_math_percentage = (passing_math_count / total_students_count) * 100\n",
    "\n",
    "passing_reading_count = school_data_complete[school_data_complete[\"reading_score\"] >= 70].count()[\"student_name\"]\n",
    "passing_reading_percentage = (passing_reading_count / total_students_count) * 100\n",
    "\n",
    "overall_passing_rate = (passing_math_percentage + passing_reading_percentage) / 2\n",
    "\n",
    "# Format the metrics\n",
    "formatted_total_students_count = \"{:,}\".format(total_students_count)\n",
    "formatted_total_budget = \"${:,.2f}\".format(total_budget)\n",
    "formatted_average_math_score = \"{:.2f}\".format(average_math_score)\n",
    "formatted_average_reading_score = \"{:.2f}\".format(average_reading_score)\n",
    "formatted_passing_math_percentage = \"{:.2f}%\".format(passing_math_percentage)\n",
    "formatted_passing_reading_percentage = \"{:.2f}%\".format(passing_reading_percentage)\n",
    "formatted_overall_passing_rate = \"{:.2f}%\".format(overall_passing_rate)\n",
    "\n",
    "# Create a DataFrame\n",
    "district_summary = pd.DataFrame({\n",
    "    \"Total Students\": [formatted_total_students_count],\n",
    "    \"Total Budget\": [formatted_total_budget],\n",
    "    \"Average Math Score\": [formatted_average_math_score],\n",
    "    \"Average Reading Score\": [formatted_average_reading_score],\n",
    "    \"% Passing Math\": [formatted_passing_math_percentage],\n",
    "    \"% Passing Reading\": [formatted_passing_reading_percentage],\n",
    "    \"Overall Passing Rate\": [formatted_overall_passing_rate]\n",
    "})\n",
    "\n",
    "# Display the DataFrame\n",
    "print(district_summary)\n",
    "\n"
   ]
  },
  {
   "cell_type": "markdown",
   "metadata": {},
   "source": [
    "## School Summary"
   ]
  },
  {
   "cell_type": "code",
   "execution_count": 36,
   "metadata": {},
   "outputs": [
    {
     "name": "stdout",
     "output_type": "stream",
     "text": [
      "school_name\n",
      "Huang High School     District\n",
      "Huang High School     District\n",
      "Huang High School     District\n",
      "Huang High School     District\n",
      "Huang High School     District\n",
      "                        ...   \n",
      "Thomas High School     Charter\n",
      "Thomas High School     Charter\n",
      "Thomas High School     Charter\n",
      "Thomas High School     Charter\n",
      "Thomas High School     Charter\n",
      "Name: type, Length: 39170, dtype: object\n"
     ]
    }
   ],
   "source": [
    "# Use the code provided to select the type per school from school_data\n",
    "school_type = school_data_complete.set_index([\"school_name\"])[\"type\"]\n",
    "print(school_type)"
   ]
  },
  {
   "cell_type": "code",
   "execution_count": 37,
   "metadata": {},
   "outputs": [
    {
     "name": "stdout",
     "output_type": "stream",
     "text": [
      "              School Name  Total Students\n",
      "0      Bailey High School            4976\n",
      "1     Cabrera High School            1858\n",
      "2    Figueroa High School            2949\n",
      "3        Ford High School            2739\n",
      "4     Griffin High School            1468\n",
      "5   Hernandez High School            4635\n",
      "6      Holden High School             427\n",
      "7       Huang High School            2917\n",
      "8     Johnson High School            4761\n",
      "9        Pena High School             962\n",
      "10  Rodriguez High School            3999\n",
      "11    Shelton High School            1761\n",
      "12     Thomas High School            1635\n",
      "13     Wilson High School            2283\n",
      "14     Wright High School            1800\n"
     ]
    }
   ],
   "source": [
    "# Calculate the total student count per school from school_data\n",
    "\n",
    "total_students_per_school = school_data_complete.groupby('school_name')['student_name'].count()\n",
    "\n",
    "# Convert to DataFrame for better readability\n",
    "total_students_per_school_df = total_students_per_school.reset_index()\n",
    "total_students_per_school_df.columns = ['School Name', 'Total Students']\n",
    "\n",
    "# Display the DataFrame\n",
    "print(total_students_per_school_df)\n",
    "\n"
   ]
  },
  {
   "cell_type": "code",
   "execution_count": 59,
   "metadata": {},
   "outputs": [],
   "source": [
    "import pandas as pd\n",
    "\n",
    "# Assuming the following columns exist in your DataFrame:\n",
    "# 'school_name', 'type', 'total_students', 'budget', 'math_score', 'reading_score'\n",
    "\n",
    "# 1. Select the school type\n",
    "school_type = school_data_complete.set_index('school_name')['type']\n",
    "\n",
    "# 2. Calculate the total student count\n",
    "total_students_count = school_data_complete.groupby('school_name')['student_name'].count()\n",
    "\n"
   ]
  },
  {
   "cell_type": "code",
   "execution_count": 49,
   "metadata": {},
   "outputs": [],
   "source": [
    "# Calculate the total school budget and per capita spending per school from school_data\n",
    "#per_school_budget =per_school_capita =\n",
    "per_capita_spending = school_data_complete.groupby('school_name')['budget'].sum() / total_students_count\n"
   ]
  },
  {
   "cell_type": "code",
   "execution_count": 50,
   "metadata": {},
   "outputs": [],
   "source": [
    "# Calculate the average test scores per school from school_data_complete\n",
    "average_math_score = school_data_complete.groupby('school_name')['math_score'].mean()\n",
    "average_reading_score = school_data_complete.groupby('school_name')['reading_score'].mean()\n",
    "\n"
   ]
  },
  {
   "cell_type": "code",
   "execution_count": 51,
   "metadata": {},
   "outputs": [],
   "source": [
    "# Calculate the number of students per school with math scores of 70 or higher from school_data_complete\n",
    "\n",
    "school_students_passing_math =passing_math_count = school_data_complete[school_data_complete['math_score'] >= 70].groupby('school_name')['math_score'].count()\n"
   ]
  },
  {
   "cell_type": "code",
   "execution_count": 52,
   "metadata": {},
   "outputs": [],
   "source": [
    "# Calculate the number of students per school with reading scores of 70 or higher from school_data_complete\n",
    "passing_reading_count = school_data_complete[school_data_complete['reading_score'] >= 70].groupby('school_name')['reading_score'].count()\n",
    "\n"
   ]
  },
  {
   "cell_type": "code",
   "execution_count": 53,
   "metadata": {},
   "outputs": [],
   "source": [
    "# Use the provided code to calculate the number of students per school that passed both math and reading with scores of 70 or higher\n",
    "students_passing_math_and_reading = school_data_complete[\n",
    "    (school_data_complete[\"reading_score\"] >= 70) & (school_data_complete[\"math_score\"] >= 70)\n",
    "]\n",
    "school_students_passing_math_and_reading = students_passing_math_and_reading.groupby([\"school_name\"]).size()\n"
   ]
  },
  {
   "cell_type": "code",
   "execution_count": 54,
   "metadata": {},
   "outputs": [],
   "source": [
    "# Use the provided code to calculate the passing rates\n",
    "# per_school_passing_math = school_students_passing_math / per_school_counts * 100\n",
    "# per_school_passing_reading = school_students_passing_reading / per_school_counts * 100\n",
    "# overall_passing_rate = school_students_passing_math_and_reading / per_school_counts * 100\n",
    "both_passing = school_data_complete[\n",
    "    (school_data_complete['math_score'] >= 70) & \n",
    "    (school_data_complete['reading_score'] >= 70)\n",
    "]\n",
    "both_passing_count = both_passing.groupby('school_name')['math_score'].count()\n",
    "\n",
    "total_schools = school_data_complete['school_name'].nunique()\n",
    "passing_math_percentage = (passing_math_count / total_students_count) * 100\n",
    "passing_reading_percentage = (passing_reading_count / total_students_count) * 100\n",
    "overall_passing_rate = (both_passing_count / total_students_count) * 100\n"
   ]
  },
  {
   "cell_type": "code",
   "execution_count": 55,
   "metadata": {},
   "outputs": [],
   "source": [
    "school_data_complete = school_data_complete[~school_data_complete.index.duplicated(keep='first')]"
   ]
  },
  {
   "cell_type": "code",
   "execution_count": 56,
   "metadata": {},
   "outputs": [
    {
     "name": "stdout",
     "output_type": "stream",
     "text": [
      "              school_name     School Type  Total Students  \\\n",
      "0      Bailey High School  <class 'type'>            4976   \n",
      "1     Cabrera High School  <class 'type'>            1858   \n",
      "2    Figueroa High School  <class 'type'>            2949   \n",
      "3        Ford High School  <class 'type'>            2739   \n",
      "4     Griffin High School  <class 'type'>            1468   \n",
      "5   Hernandez High School  <class 'type'>            4635   \n",
      "6      Holden High School  <class 'type'>             427   \n",
      "7       Huang High School  <class 'type'>            2917   \n",
      "8     Johnson High School  <class 'type'>            4761   \n",
      "9        Pena High School  <class 'type'>             962   \n",
      "10  Rodriguez High School  <class 'type'>            3999   \n",
      "11    Shelton High School  <class 'type'>            1761   \n",
      "12     Thomas High School  <class 'type'>            1635   \n",
      "13     Wilson High School  <class 'type'>            2283   \n",
      "14     Wright High School  <class 'type'>            1800   \n",
      "\n",
      "    Per Capita Spending  Average Math Score  Average Reading Score  \\\n",
      "0             3124928.0           77.048432              81.033963   \n",
      "1             1081356.0           83.061895              83.975780   \n",
      "2             1884411.0           76.711767              81.158020   \n",
      "3             1763916.0           77.102592              80.746258   \n",
      "4              917500.0           83.351499              83.816757   \n",
      "5             3022020.0           77.289752              80.934412   \n",
      "6              248087.0           83.803279              83.814988   \n",
      "7             1910635.0           76.629414              81.182722   \n",
      "8             3094650.0           77.072464              80.966394   \n",
      "9              585858.0           83.839917              84.044699   \n",
      "10            2547363.0           76.842711              80.744686   \n",
      "11            1056600.0           83.359455              83.725724   \n",
      "12            1043130.0           83.418349              83.848930   \n",
      "13            1319574.0           83.274201              83.989488   \n",
      "14            1049400.0           83.682222              83.955000   \n",
      "\n",
      "    % Passing Math  % Passing Reading  % Overall Passing  \n",
      "0        66.680064          81.933280          54.642283  \n",
      "1        94.133477          97.039828          91.334769  \n",
      "2        65.988471          80.739234          53.204476  \n",
      "3        68.309602          79.299014          54.289887  \n",
      "4        93.392371          97.138965          90.599455  \n",
      "5        66.752967          80.862999          53.527508  \n",
      "6        92.505855          96.252927          89.227166  \n",
      "7        65.683922          81.316421          53.513884  \n",
      "8        66.057551          81.222432          53.539172  \n",
      "9        94.594595          95.945946          90.540541  \n",
      "10       66.366592          80.220055          52.988247  \n",
      "11       93.867121          95.854628          89.892107  \n",
      "12       93.272171          97.308869          90.948012  \n",
      "13       93.867718          96.539641          90.582567  \n",
      "14       93.333333          96.611111          90.333333  \n"
     ]
    }
   ],
   "source": [
    "# Create the per_school_summary DataFrame\n",
    "\n",
    "per_school_summary = pd.DataFrame({\n",
    "    'School Type': type,\n",
    "    'Total Students': total_students_count,\n",
    "    'Per Capita Spending': per_capita_spending,\n",
    "    'Average Math Score': average_math_score,\n",
    "    'Average Reading Score': average_reading_score,\n",
    "    '% Passing Math': passing_math_percentage,\n",
    "    '% Passing Reading': passing_reading_percentage,\n",
    "    '% Overall Passing': overall_passing_rate\n",
    "})\n",
    "\n",
    "# Reset index to make 'school_name' a column again\n",
    "per_school_summary = per_school_summary.reset_index()\n",
    "\n",
    "# Display the DataFrame\n",
    "print(per_school_summary)"
   ]
  },
  {
   "cell_type": "code",
   "execution_count": 57,
   "metadata": {},
   "outputs": [
    {
     "data": {
      "text/plain": [
       "Index(['school_name', 'School Type', 'Total Students', 'Per Capita Spending',\n",
       "       'Average Math Score', 'Average Reading Score', '% Passing Math',\n",
       "       '% Passing Reading', '% Overall Passing'],\n",
       "      dtype='object')"
      ]
     },
     "execution_count": 57,
     "metadata": {},
     "output_type": "execute_result"
    }
   ],
   "source": [
    "per_school_summary.columns\n"
   ]
  },
  {
   "cell_type": "code",
   "execution_count": 58,
   "metadata": {},
   "outputs": [
    {
     "data": {
      "text/plain": [
       "Index(['Student ID', 'student_name', 'gender', 'grade', 'school_name',\n",
       "       'reading_score', 'math_score', 'School ID', 'type', 'size', 'budget'],\n",
       "      dtype='object')"
      ]
     },
     "execution_count": 58,
     "metadata": {},
     "output_type": "execute_result"
    }
   ],
   "source": [
    "school_data_complete.columns"
   ]
  },
  {
   "cell_type": "markdown",
   "metadata": {},
   "source": [
    "## Highest-Performing Schools (by % Overall Passing)"
   ]
  },
  {
   "cell_type": "code",
   "execution_count": 60,
   "metadata": {
    "scrolled": true
   },
   "outputs": [
    {
     "name": "stdout",
     "output_type": "stream",
     "text": [
      "            school_name     School Type  Total Students  Per Capita Spending  \\\n",
      "1   Cabrera High School  <class 'type'>            1858            1081356.0   \n",
      "12   Thomas High School  <class 'type'>            1635            1043130.0   \n",
      "4   Griffin High School  <class 'type'>            1468             917500.0   \n",
      "13   Wilson High School  <class 'type'>            2283            1319574.0   \n",
      "9      Pena High School  <class 'type'>             962             585858.0   \n",
      "\n",
      "    Average Math Score  Average Reading Score  % Passing Math  \\\n",
      "1            83.061895              83.975780       94.133477   \n",
      "12           83.418349              83.848930       93.272171   \n",
      "4            83.351499              83.816757       93.392371   \n",
      "13           83.274201              83.989488       93.867718   \n",
      "9            83.839917              84.044699       94.594595   \n",
      "\n",
      "    % Passing Reading  % Overall Passing  \n",
      "1           97.039828          91.334769  \n",
      "12          97.308869          90.948012  \n",
      "4           97.138965          90.599455  \n",
      "13          96.539641          90.582567  \n",
      "9           95.945946          90.540541  \n"
     ]
    }
   ],
   "source": [
    "# Sort the schools by `% Overall Passing` in descending order and display the top 5 rows.\n",
    " #Sort the schools by % Overall Passing in descending order\n",
    "top_schools = per_school_summary.sort_values(by='% Overall Passing', ascending=False)\n",
    "\n",
    "# Display the first 5 rows\n",
    "print(top_schools.head(5))\n",
    "\n",
    "\n"
   ]
  },
  {
   "cell_type": "markdown",
   "metadata": {},
   "source": [
    "## Bottom Performing Schools (By % Overall Passing)"
   ]
  },
  {
   "cell_type": "code",
   "execution_count": 61,
   "metadata": {},
   "outputs": [
    {
     "name": "stdout",
     "output_type": "stream",
     "text": [
      "              school_name     School Type  Total Students  \\\n",
      "10  Rodriguez High School  <class 'type'>            3999   \n",
      "2    Figueroa High School  <class 'type'>            2949   \n",
      "7       Huang High School  <class 'type'>            2917   \n",
      "5   Hernandez High School  <class 'type'>            4635   \n",
      "8     Johnson High School  <class 'type'>            4761   \n",
      "\n",
      "    Per Capita Spending  Average Math Score  Average Reading Score  \\\n",
      "10            2547363.0           76.842711              80.744686   \n",
      "2             1884411.0           76.711767              81.158020   \n",
      "7             1910635.0           76.629414              81.182722   \n",
      "5             3022020.0           77.289752              80.934412   \n",
      "8             3094650.0           77.072464              80.966394   \n",
      "\n",
      "    % Passing Math  % Passing Reading  % Overall Passing  \n",
      "10       66.366592          80.220055          52.988247  \n",
      "2        65.988471          80.739234          53.204476  \n",
      "7        65.683922          81.316421          53.513884  \n",
      "5        66.752967          80.862999          53.527508  \n",
      "8        66.057551          81.222432          53.539172  \n"
     ]
    }
   ],
   "source": [
    "# Sort the schools by `% Overall Passing` in ascending order and display the top 5 rows.\n",
    "# Sort the schools by % Overall Passing in ascending order\n",
    "bottom_schools = per_school_summary.sort_values(by='% Overall Passing', ascending=True)\n",
    "\n",
    "# Display the first 5 rows\n",
    "print(bottom_schools.head(5))\n",
    "\n"
   ]
  },
  {
   "cell_type": "markdown",
   "metadata": {},
   "source": [
    "## Math Scores by Grade"
   ]
  },
  {
   "cell_type": "code",
   "execution_count": 62,
   "metadata": {},
   "outputs": [
    {
     "name": "stdout",
     "output_type": "stream",
     "text": [
      "              school_name  9th Grade Math Score  10th Grade Math Score  \\\n",
      "0      Bailey High School             77.083676              76.996772   \n",
      "1     Cabrera High School             83.094697              83.154506   \n",
      "2    Figueroa High School             76.403037              76.539974   \n",
      "3        Ford High School             77.361345              77.672316   \n",
      "4     Griffin High School             82.044010              84.229064   \n",
      "5   Hernandez High School             77.438495              77.337408   \n",
      "6      Holden High School             83.787402              83.429825   \n",
      "7       Huang High School             77.027251              75.908735   \n",
      "8     Johnson High School             77.187857              76.691117   \n",
      "9        Pena High School             83.625455              83.372000   \n",
      "10  Rodriguez High School             76.859966              76.612500   \n",
      "11    Shelton High School             83.420755              82.917411   \n",
      "12     Thomas High School             83.590022              83.087886   \n",
      "13     Wilson High School             83.085578              83.724422   \n",
      "14     Wright High School             83.264706              84.010288   \n",
      "\n",
      "    11th Grade Math Score  12th Grade Math Score  \n",
      "0               77.515588              76.492218  \n",
      "1               82.765560              83.277487  \n",
      "2               76.884344              77.151369  \n",
      "3               76.918058              76.179963  \n",
      "4               83.842105              83.356164  \n",
      "5               77.136029              77.186567  \n",
      "6               85.000000              82.855422  \n",
      "7               76.446602              77.225641  \n",
      "8               77.491653              76.863248  \n",
      "9               84.328125              84.121547  \n",
      "10              76.395626              77.690748  \n",
      "11              83.383495              83.778976  \n",
      "12              83.498795              83.497041  \n",
      "13              83.195326              83.035794  \n",
      "14              83.836782              83.644986  \n"
     ]
    }
   ],
   "source": [
    "# Use the code provided to separate the data by grade\n",
    "ninth_graders = school_data_complete[(school_data_complete[\"grade\"] == \"9th\")]\n",
    "tenth_graders = school_data_complete[(school_data_complete[\"grade\"] == \"10th\")]\n",
    "eleventh_graders = school_data_complete[(school_data_complete[\"grade\"] == \"11th\")]\n",
    "twelfth_graders = school_data_complete[(school_data_complete[\"grade\"] == \"12th\")]\n",
    "\n",
    "# Group by `school_name` and take the mean of the `math_score` column for each.\n",
    "# Group by school_name and take the mean of each\n",
    "ninth_grade_math = ninth_graders.groupby('school_name')['math_score'].mean()\n",
    "tenth_grade_math = tenth_graders.groupby('school_name')['math_score'].mean()\n",
    "eleventh_grade_math = eleventh_graders.groupby('school_name')['math_score'].mean()\n",
    "twelfth_grade_math = twelfth_graders.groupby('school_name')['math_score'].mean()\n",
    "\n",
    "# Combine each of the scores into a single DataFrame\n",
    "math_scores_by_grade = pd.DataFrame({\n",
    "    '9th Grade Math Score': ninth_grade_math,\n",
    "    '10th Grade Math Score': tenth_grade_math,\n",
    "    '11th Grade Math Score': eleventh_grade_math,\n",
    "    '12th Grade Math Score': twelfth_grade_math\n",
    "})\n",
    "\n",
    "# Reset index to make 'school_name' a column again\n",
    "math_scores_by_grade = math_scores_by_grade.reset_index()\n",
    "\n",
    "# Display the DataFrame\n",
    "print(math_scores_by_grade)\n"
   ]
  },
  {
   "cell_type": "markdown",
   "metadata": {},
   "source": [
    "## Reading Score by Grade "
   ]
  },
  {
   "cell_type": "code",
   "execution_count": 63,
   "metadata": {},
   "outputs": [
    {
     "name": "stdout",
     "output_type": "stream",
     "text": [
      "              school_name  9th Grade Reading Score  10th Grade Reading Score  \\\n",
      "0      Bailey High School                81.303155                 80.907183   \n",
      "1     Cabrera High School                83.676136                 84.253219   \n",
      "2    Figueroa High School                81.198598                 81.408912   \n",
      "3        Ford High School                80.632653                 81.262712   \n",
      "4     Griffin High School                83.369193                 83.706897   \n",
      "5   Hernandez High School                80.866860                 80.660147   \n",
      "6      Holden High School                83.677165                 83.324561   \n",
      "7       Huang High School                81.290284                 81.512386   \n",
      "8     Johnson High School                81.260714                 80.773431   \n",
      "9        Pena High School                83.807273                 83.612000   \n",
      "10  Rodriguez High School                80.993127                 80.629808   \n",
      "11    Shelton High School                84.122642                 83.441964   \n",
      "12     Thomas High School                83.728850                 84.254157   \n",
      "13     Wilson High School                83.939778                 84.021452   \n",
      "14     Wright High School                83.833333                 83.812757   \n",
      "\n",
      "    11th Grade Reading Score  12th Grade Reading Score  \n",
      "0                  80.945643                 80.912451  \n",
      "1                  83.788382                 84.287958  \n",
      "2                  80.640339                 81.384863  \n",
      "3                  80.403642                 80.662338  \n",
      "4                  84.288089                 84.013699  \n",
      "5                  81.396140                 80.857143  \n",
      "6                  83.815534                 84.698795  \n",
      "7                  81.417476                 80.305983  \n",
      "8                  80.616027                 81.227564  \n",
      "9                  84.335938                 84.591160  \n",
      "10                 80.864811                 80.376426  \n",
      "11                 84.373786                 82.781671  \n",
      "12                 83.585542                 83.831361  \n",
      "13                 83.764608                 84.317673  \n",
      "14                 84.156322                 84.073171  \n"
     ]
    }
   ],
   "source": [
    "# Use the code provided to separate the data by grade\n",
    "ninth_graders = school_data_complete[(school_data_complete[\"grade\"] == \"9th\")]\n",
    "tenth_graders = school_data_complete[(school_data_complete[\"grade\"] == \"10th\")]\n",
    "eleventh_graders = school_data_complete[(school_data_complete[\"grade\"] == \"11th\")]\n",
    "twelfth_graders = school_data_complete[(school_data_complete[\"grade\"] == \"12th\")]\n",
    "\n",
    "# Group by `school_name` and take the mean of the the `reading_score` column for each.\n",
    "ninth_grade_reading = ninth_graders.groupby('school_name')['reading_score'].mean()\n",
    "tenth_grade_reading = tenth_graders.groupby('school_name')['reading_score'].mean()\n",
    "eleventh_grade_reading = eleventh_graders.groupby('school_name')['reading_score'].mean()\n",
    "twelfth_grade_reading = twelfth_graders.groupby('school_name')['reading_score'].mean()\n",
    "\n",
    "# Combine each of the scores into a single DataFrame\n",
    "reading_scores_by_grade = pd.DataFrame({\n",
    "    '9th Grade Reading Score': ninth_grade_reading,\n",
    "    '10th Grade Reading Score': tenth_grade_reading,\n",
    "    '11th Grade Reading Score': eleventh_grade_reading,\n",
    "    '12th Grade Reading Score': twelfth_grade_reading\n",
    "})\n",
    "\n",
    "# Reset index to make 'school_name' a column again\n",
    "reading_scores_by_grade = reading_scores_by_grade.reset_index()\n",
    "\n",
    "# Display the DataFrame\n",
    "print(reading_scores_by_grade)\n"
   ]
  },
  {
   "cell_type": "markdown",
   "metadata": {},
   "source": [
    "## Scores by School Spending"
   ]
  },
  {
   "cell_type": "code",
   "execution_count": 64,
   "metadata": {},
   "outputs": [],
   "source": [
    "# Define spending ranges and labels\n",
    "spending_bins = [0, 585, 615, 645, 675]\n",
    "spending_labels = ['< $585', '$585-615', '$615-645', '$645-675']\n"
   ]
  },
  {
   "cell_type": "code",
   "execution_count": 74,
   "metadata": {},
   "outputs": [],
   "source": [
    "# Bin the spending data\n",
    "per_school_summary['Spending Ranges (Per Student)'] = pd.cut(\n",
    "    per_capita_spending, bins=spending_bins, labels=spending_labels\n",
    ")\n"
   ]
  },
  {
   "cell_type": "code",
   "execution_count": 75,
   "metadata": {},
   "outputs": [],
   "source": [
    "# Group by spending ranges with observed=False (current default behavior)\n",
    "spending_summary = pd.DataFrame({\n",
    "    'Average Math Score': per_school_summary.groupby('Spending Ranges (Per Student)', observed=False)['Average Math Score'],\n",
    "    'Average Reading Score': per_school_summary.groupby('Spending Ranges (Per Student)', observed=False)['Average Reading Score'],\n",
    "    '% Passing Math': per_school_summary.groupby('Spending Ranges (Per Student)', observed=False)['% Passing Math'].mean(),\n",
    "    '% Passing Reading': per_school_summary.groupby('Spending Ranges (Per Student)', observed=False)['% Passing Reading'].mean(),\n",
    "    '% Overall Passing': per_school_summary.groupby('Spending Ranges (Per Student)', observed=False)['% Overall Passing'].mean()\n",
    "})"
   ]
  },
  {
   "cell_type": "code",
   "execution_count": 76,
   "metadata": {},
   "outputs": [],
   "source": [
    "# Reset index to make 'Spending Ranges (Per Student)' a column again\n",
    "spending_summary = spending_summary.reset_index()"
   ]
  },
  {
   "cell_type": "code",
   "execution_count": 84,
   "metadata": {},
   "outputs": [
    {
     "name": "stdout",
     "output_type": "stream",
     "text": [
      "  Spending Ranges (Per Student) Average Math Score Average Reading Score  \\\n",
      "0                        < $585       (< $585, [])          (< $585, [])   \n",
      "1                      $585-615     ($585-615, [])        ($585-615, [])   \n",
      "2                      $615-645     ($615-645, [])        ($615-645, [])   \n",
      "3                      $645-675     ($645-675, [])        ($645-675, [])   \n",
      "\n",
      "   % Passing Math  % Passing Reading  % Overall Passing  \n",
      "0             NaN                NaN                NaN  \n",
      "1             NaN                NaN                NaN  \n",
      "2             NaN                NaN                NaN  \n",
      "3             NaN                NaN                NaN  \n"
     ]
    }
   ],
   "source": [
    "# Display the DataFrame\n",
    "print(spending_summary)\n"
   ]
  },
  {
   "cell_type": "code",
   "execution_count": 97,
   "metadata": {},
   "outputs": [
    {
     "name": "stderr",
     "output_type": "stream",
     "text": [
      "C:\\Users\\enmwa\\AppData\\Local\\Temp\\ipykernel_12676\\3814315997.py:11: FutureWarning: The default of observed=False is deprecated and will be changed to True in a future version of pandas. Pass observed=False to retain current behavior or observed=True to adopt the future default and silence this warning.\n",
      "  spending_math_scores = school_data_complete.groupby([\"Spending Ranges (Per Student)\"])[\"math_score\"].mean()\n",
      "C:\\Users\\enmwa\\AppData\\Local\\Temp\\ipykernel_12676\\3814315997.py:12: FutureWarning: The default of observed=False is deprecated and will be changed to True in a future version of pandas. Pass observed=False to retain current behavior or observed=True to adopt the future default and silence this warning.\n",
      "  spending_reading_scores = school_data_complete.groupby([\"Spending Ranges (Per Student)\"])[\"reading_score\"].mean()\n",
      "C:\\Users\\enmwa\\AppData\\Local\\Temp\\ipykernel_12676\\3814315997.py:13: FutureWarning: The default of observed=False is deprecated and will be changed to True in a future version of pandas. Pass observed=False to retain current behavior or observed=True to adopt the future default and silence this warning.\n",
      "  spending_passing_math = school_data_complete.groupby([\"Spending Ranges (Per Student)\"])[\"% Passing Math\"].mean()\n"
     ]
    },
    {
     "ename": "KeyError",
     "evalue": "'Column not found: % Passing Math'",
     "output_type": "error",
     "traceback": [
      "\u001b[1;31m---------------------------------------------------------------------------\u001b[0m",
      "\u001b[1;31mKeyError\u001b[0m                                  Traceback (most recent call last)",
      "Cell \u001b[1;32mIn[97], line 13\u001b[0m\n\u001b[0;32m     11\u001b[0m spending_math_scores \u001b[38;5;241m=\u001b[39m school_data_complete\u001b[38;5;241m.\u001b[39mgroupby([\u001b[38;5;124m\"\u001b[39m\u001b[38;5;124mSpending Ranges (Per Student)\u001b[39m\u001b[38;5;124m\"\u001b[39m])[\u001b[38;5;124m\"\u001b[39m\u001b[38;5;124mmath_score\u001b[39m\u001b[38;5;124m\"\u001b[39m]\u001b[38;5;241m.\u001b[39mmean()\n\u001b[0;32m     12\u001b[0m spending_reading_scores \u001b[38;5;241m=\u001b[39m school_data_complete\u001b[38;5;241m.\u001b[39mgroupby([\u001b[38;5;124m\"\u001b[39m\u001b[38;5;124mSpending Ranges (Per Student)\u001b[39m\u001b[38;5;124m\"\u001b[39m])[\u001b[38;5;124m\"\u001b[39m\u001b[38;5;124mreading_score\u001b[39m\u001b[38;5;124m\"\u001b[39m]\u001b[38;5;241m.\u001b[39mmean()\n\u001b[1;32m---> 13\u001b[0m spending_passing_math \u001b[38;5;241m=\u001b[39m school_data_complete\u001b[38;5;241m.\u001b[39mgroupby([\u001b[38;5;124m\"\u001b[39m\u001b[38;5;124mSpending Ranges (Per Student)\u001b[39m\u001b[38;5;124m\"\u001b[39m])[\u001b[38;5;124m\"\u001b[39m\u001b[38;5;124m%\u001b[39m\u001b[38;5;124m Passing Math\u001b[39m\u001b[38;5;124m\"\u001b[39m]\u001b[38;5;241m.\u001b[39mmean()\n\u001b[0;32m     14\u001b[0m spending_passing_reading \u001b[38;5;241m=\u001b[39m school_data_complete\u001b[38;5;241m.\u001b[39mgroupby([\u001b[38;5;124m\"\u001b[39m\u001b[38;5;124mSpending Ranges (Per Student)\u001b[39m\u001b[38;5;124m\"\u001b[39m])[\u001b[38;5;124m\"\u001b[39m\u001b[38;5;124m%\u001b[39m\u001b[38;5;124m Passing Reading\u001b[39m\u001b[38;5;124m\"\u001b[39m]\u001b[38;5;241m.\u001b[39mmean()\n\u001b[0;32m     15\u001b[0m overall_passing_spending \u001b[38;5;241m=\u001b[39m school_data_complete\u001b[38;5;241m.\u001b[39mgroupby([\u001b[38;5;124m\"\u001b[39m\u001b[38;5;124mSpending Ranges (Per Student)\u001b[39m\u001b[38;5;124m\"\u001b[39m])[\u001b[38;5;124m\"\u001b[39m\u001b[38;5;124m%\u001b[39m\u001b[38;5;124m Overall Passing\u001b[39m\u001b[38;5;124m\"\u001b[39m]\u001b[38;5;241m.\u001b[39mmean()\n",
      "File \u001b[1;32m~\\anaconda3\\Lib\\site-packages\\pandas\\core\\groupby\\generic.py:1964\u001b[0m, in \u001b[0;36mDataFrameGroupBy.__getitem__\u001b[1;34m(self, key)\u001b[0m\n\u001b[0;32m   1957\u001b[0m \u001b[38;5;28;01mif\u001b[39;00m \u001b[38;5;28misinstance\u001b[39m(key, \u001b[38;5;28mtuple\u001b[39m) \u001b[38;5;129;01mand\u001b[39;00m \u001b[38;5;28mlen\u001b[39m(key) \u001b[38;5;241m>\u001b[39m \u001b[38;5;241m1\u001b[39m:\n\u001b[0;32m   1958\u001b[0m     \u001b[38;5;66;03m# if len == 1, then it becomes a SeriesGroupBy and this is actually\u001b[39;00m\n\u001b[0;32m   1959\u001b[0m     \u001b[38;5;66;03m# valid syntax, so don't raise\u001b[39;00m\n\u001b[0;32m   1960\u001b[0m     \u001b[38;5;28;01mraise\u001b[39;00m \u001b[38;5;167;01mValueError\u001b[39;00m(\n\u001b[0;32m   1961\u001b[0m         \u001b[38;5;124m\"\u001b[39m\u001b[38;5;124mCannot subset columns with a tuple with more than one element. \u001b[39m\u001b[38;5;124m\"\u001b[39m\n\u001b[0;32m   1962\u001b[0m         \u001b[38;5;124m\"\u001b[39m\u001b[38;5;124mUse a list instead.\u001b[39m\u001b[38;5;124m\"\u001b[39m\n\u001b[0;32m   1963\u001b[0m     )\n\u001b[1;32m-> 1964\u001b[0m \u001b[38;5;28;01mreturn\u001b[39;00m \u001b[38;5;28msuper\u001b[39m()\u001b[38;5;241m.\u001b[39m\u001b[38;5;21m__getitem__\u001b[39m(key)\n",
      "File \u001b[1;32m~\\anaconda3\\Lib\\site-packages\\pandas\\core\\base.py:244\u001b[0m, in \u001b[0;36mSelectionMixin.__getitem__\u001b[1;34m(self, key)\u001b[0m\n\u001b[0;32m    242\u001b[0m \u001b[38;5;28;01melse\u001b[39;00m:\n\u001b[0;32m    243\u001b[0m     \u001b[38;5;28;01mif\u001b[39;00m key \u001b[38;5;129;01mnot\u001b[39;00m \u001b[38;5;129;01min\u001b[39;00m \u001b[38;5;28mself\u001b[39m\u001b[38;5;241m.\u001b[39mobj:\n\u001b[1;32m--> 244\u001b[0m         \u001b[38;5;28;01mraise\u001b[39;00m \u001b[38;5;167;01mKeyError\u001b[39;00m(\u001b[38;5;124mf\u001b[39m\u001b[38;5;124m\"\u001b[39m\u001b[38;5;124mColumn not found: \u001b[39m\u001b[38;5;132;01m{\u001b[39;00mkey\u001b[38;5;132;01m}\u001b[39;00m\u001b[38;5;124m\"\u001b[39m)\n\u001b[0;32m    245\u001b[0m     ndim \u001b[38;5;241m=\u001b[39m \u001b[38;5;28mself\u001b[39m\u001b[38;5;241m.\u001b[39mobj[key]\u001b[38;5;241m.\u001b[39mndim\n\u001b[0;32m    246\u001b[0m     \u001b[38;5;28;01mreturn\u001b[39;00m \u001b[38;5;28mself\u001b[39m\u001b[38;5;241m.\u001b[39m_gotitem(key, ndim\u001b[38;5;241m=\u001b[39mndim)\n",
      "\u001b[1;31mKeyError\u001b[0m: 'Column not found: % Passing Math'"
     ]
    }
   ],
   "source": [
    "import pandas as pd\n",
    "\n",
    "# using the'budget' column in your DataFrame\n",
    "spending_bins = [0, 585, 615, 645, 675]\n",
    "spending_labels = [\"<$585\", \"$585-615\", \"$615-645\", \"$645-675\"]\n",
    "\n",
    "# Add a new column for Spending Ranges\n",
    "school_data_complete[\"Spending Ranges (Per Student)\"] = pd.cut(school_data_complete[\"budget\"], spending_bins, labels=spending_labels)\n",
    "\n",
    "# Calculate mean scores per spending range\n",
    "spending_math_scores = school_data_complete.groupby([\"Spending Ranges (Per Student)\"])[\"math_score\"].mean()\n",
    "spending_reading_scores = school_data_complete.groupby([\"Spending Ranges (Per Student)\"])[\"reading_score\"].mean()\n",
    "spending_passing_math = school_data_complete.groupby([\"Spending Ranges (Per Student)\"])[\"% Passing Math\"].mean()\n",
    "spending_passing_reading = school_data_complete.groupby([\"Spending Ranges (Per Student)\"])[\"% Passing Reading\"].mean()\n",
    "overall_passing_spending = school_data_complete.groupby([\"Spending Ranges (Per Student)\"])[\"% Overall Passing\"].mean()\n",
    "\n",
    "# Create a DataFrame called spending_summary\n",
    "spending_summary = pd.DataFrame({\n",
    "    \"Average Math Score\": spending_math_scores,\n",
    "    \"Average Reading Score\": spending_reading_scores,\n",
    "    \"% Passing Math\": spending_passing_math,\n",
    "    \"% Passing Reading\": spending_passing_reading,\n",
    "    \"% Overall Passing\": overall_passing_spending\n",
    "})\n",
    "\n",
    "print(spending_summary)\n",
    "\n"
   ]
  },
  {
   "cell_type": "markdown",
   "metadata": {},
   "source": [
    "## Scores by School Size"
   ]
  },
  {
   "cell_type": "code",
   "execution_count": 81,
   "metadata": {},
   "outputs": [
    {
     "name": "stdout",
     "output_type": "stream",
     "text": [
      "                    Average Math Score  Average Reading Score  % Passing Math  \\\n",
      "School Size                                                                     \n",
      "Small (<1000)                83.821598              83.929843       93.550225   \n",
      "Medium (1000-2000)           83.374684              83.864438       93.599695   \n",
      "Large (2000-5000)            77.746417              81.344493       69.963361   \n",
      "\n",
      "                    % Passing Reading  % Overall Passing  \n",
      "School Size                                               \n",
      "Small (<1000)               96.099437          89.883853  \n",
      "Medium (1000-2000)          96.790680          90.621535  \n",
      "Large (2000-5000)           82.766634          58.286003  \n"
     ]
    },
    {
     "name": "stderr",
     "output_type": "stream",
     "text": [
      "C:\\Users\\enmwa\\AppData\\Local\\Temp\\ipykernel_12676\\2086475196.py:9: FutureWarning: The default of observed=False is deprecated and will be changed to True in a future version of pandas. Pass observed=False to retain current behavior or observed=True to adopt the future default and silence this warning.\n",
      "  size_math_scores = per_school_summary.groupby([\"School Size\"])[\"Average Math Score\"].mean()\n",
      "C:\\Users\\enmwa\\AppData\\Local\\Temp\\ipykernel_12676\\2086475196.py:10: FutureWarning: The default of observed=False is deprecated and will be changed to True in a future version of pandas. Pass observed=False to retain current behavior or observed=True to adopt the future default and silence this warning.\n",
      "  size_reading_scores = per_school_summary.groupby([\"School Size\"])[\"Average Reading Score\"].mean()\n",
      "C:\\Users\\enmwa\\AppData\\Local\\Temp\\ipykernel_12676\\2086475196.py:11: FutureWarning: The default of observed=False is deprecated and will be changed to True in a future version of pandas. Pass observed=False to retain current behavior or observed=True to adopt the future default and silence this warning.\n",
      "  size_passing_math = per_school_summary.groupby([\"School Size\"])[\"% Passing Math\"].mean()\n",
      "C:\\Users\\enmwa\\AppData\\Local\\Temp\\ipykernel_12676\\2086475196.py:12: FutureWarning: The default of observed=False is deprecated and will be changed to True in a future version of pandas. Pass observed=False to retain current behavior or observed=True to adopt the future default and silence this warning.\n",
      "  size_passing_reading = per_school_summary.groupby([\"School Size\"])[\"% Passing Reading\"].mean()\n",
      "C:\\Users\\enmwa\\AppData\\Local\\Temp\\ipykernel_12676\\2086475196.py:13: FutureWarning: The default of observed=False is deprecated and will be changed to True in a future version of pandas. Pass observed=False to retain current behavior or observed=True to adopt the future default and silence this warning.\n",
      "  overall_passing_size = per_school_summary.groupby([\"School Size\"])[\"% Overall Passing\"].mean()\n"
     ]
    }
   ],
   "source": [
    "# Define size bins and labels\n",
    "size_bins = [0, 1000, 2000, 5000]\n",
    "size_labels = [\"Small (<1000)\", \"Medium (1000-2000)\", \"Large (2000-5000)\"]\n",
    "\n",
    "# Assuming you have a DataFrame per_school_summary with a column 'Total Students'\n",
    "per_school_summary[\"School Size\"] = pd.cut(per_school_summary[\"Total Students\"], bins=size_bins, labels=size_labels)\n",
    "\n",
    "# Calculate mean scores per school size\n",
    "size_math_scores = per_school_summary.groupby([\"School Size\"])[\"Average Math Score\"].mean()\n",
    "size_reading_scores = per_school_summary.groupby([\"School Size\"])[\"Average Reading Score\"].mean()\n",
    "size_passing_math = per_school_summary.groupby([\"School Size\"])[\"% Passing Math\"].mean()\n",
    "size_passing_reading = per_school_summary.groupby([\"School Size\"])[\"% Passing Reading\"].mean()\n",
    "overall_passing_size = per_school_summary.groupby([\"School Size\"])[\"% Overall Passing\"].mean()\n",
    "\n",
    "# Create a DataFrame called size_summary\n",
    "size_summary = pd.DataFrame({\n",
    "    \"Average Math Score\": size_math_scores,\n",
    "    \"Average Reading Score\": size_reading_scores,\n",
    "    \"% Passing Math\": size_passing_math,\n",
    "    \"% Passing Reading\": size_passing_reading,\n",
    "    \"% Overall Passing\": overall_passing_size\n",
    "})\n",
    "\n",
    "print(size_summary)\n"
   ]
  },
  {
   "cell_type": "code",
   "execution_count": 70,
   "metadata": {},
   "outputs": [
    {
     "data": {
      "text/plain": [
       "Index(['Student ID', 'student_name', 'gender', 'grade', 'school_name',\n",
       "       'reading_score', 'math_score', 'School ID', 'type', 'size', 'budget',\n",
       "       'Spending Ranges (Per Student)'],\n",
       "      dtype='object')"
      ]
     },
     "execution_count": 70,
     "metadata": {},
     "output_type": "execute_result"
    }
   ],
   "source": [
    "school_data_complete.columns\n"
   ]
  },
  {
   "cell_type": "code",
   "execution_count": 71,
   "metadata": {},
   "outputs": [
    {
     "data": {
      "text/plain": [
       "Index(['school_name', 'School Type', 'Total Students', 'Per Capita Spending',\n",
       "       'Average Math Score', 'Average Reading Score', '% Passing Math',\n",
       "       '% Passing Reading', '% Overall Passing',\n",
       "       'Spending Ranges (Per Student)'],\n",
       "      dtype='object')"
      ]
     },
     "execution_count": 71,
     "metadata": {},
     "output_type": "execute_result"
    }
   ],
   "source": [
    "per_school_summary.columns"
   ]
  },
  {
   "cell_type": "markdown",
   "metadata": {},
   "source": [
    "## Scores by School Type"
   ]
  },
  {
   "cell_type": "code",
   "execution_count": 80,
   "metadata": {},
   "outputs": [
    {
     "name": "stdout",
     "output_type": "stream",
     "text": [
      "                Average Math Score  Average Reading Score  % Passing Math  \\\n",
      "School Type                                                                 \n",
      "<class 'type'>            80.43253              82.529188       80.987054   \n",
      "\n",
      "                % Passing Reading  % Overall Passing  \n",
      "School Type                                           \n",
      "<class 'type'>          89.219023           73.27756  \n"
     ]
    }
   ],
   "source": [
    "# Assuming you have a DataFrame per_school_summary with a column 'School Type'\n",
    "# Calculate mean scores per school type\n",
    "type_math_scores = per_school_summary.groupby([\"School Type\"])[\"Average Math Score\"].mean()\n",
    "type_reading_scores = per_school_summary.groupby([\"School Type\"])[\"Average Reading Score\"].mean()\n",
    "type_passing_math = per_school_summary.groupby([\"School Type\"])[\"% Passing Math\"].mean()\n",
    "type_passing_reading = per_school_summary.groupby([\"School Type\"])[\"% Passing Reading\"].mean()\n",
    "overall_passing_type = per_school_summary.groupby([\"School Type\"])[\"% Overall Passing\"].mean()\n",
    "\n",
    "# Create a DataFrame called type_summary\n",
    "type_summary = pd.DataFrame({\n",
    "    \"Average Math Score\": type_math_scores,\n",
    "    \"Average Reading Score\": type_reading_scores,\n",
    "    \"% Passing Math\": type_passing_math,\n",
    "    \"% Passing Reading\": type_passing_reading,\n",
    "    \"% Overall Passing\": overall_passing_type\n",
    "})\n",
    "\n",
    "print(type_summary)\n"
   ]
  },
  {
   "cell_type": "code",
   "execution_count": null,
   "metadata": {},
   "outputs": [],
   "source": []
  }
 ],
 "metadata": {
  "anaconda-cloud": {},
  "kernel_info": {
   "name": "python3"
  },
  "kernelspec": {
   "display_name": "PythonData",
   "language": "python",
   "name": "pythondata"
  },
  "language_info": {
   "codemirror_mode": {
    "name": "ipython",
    "version": 3
   },
   "file_extension": ".py",
   "mimetype": "text/x-python",
   "name": "python",
   "nbconvert_exporter": "python",
   "pygments_lexer": "ipython3",
   "version": "3.11.7"
  },
  "latex_envs": {
   "LaTeX_envs_menu_present": true,
   "autoclose": false,
   "autocomplete": true,
   "bibliofile": "biblio.bib",
   "cite_by": "apalike",
   "current_citInitial": 1,
   "eqLabelWithNumbers": true,
   "eqNumInitial": 1,
   "hotkeys": {
    "equation": "Ctrl-E",
    "itemize": "Ctrl-I"
   },
   "labels_anchors": false,
   "latex_user_defs": false,
   "report_style_numbering": false,
   "user_envs_cfg": false
  },
  "nteract": {
   "version": "0.8.4"
  },
  "vscode": {
   "interpreter": {
    "hash": "5384d77d82de63fd599f73e77f9ec786e7719288bf80a29ec0288c670ac3cf32"
   }
  }
 },
 "nbformat": 4,
 "nbformat_minor": 4
}
